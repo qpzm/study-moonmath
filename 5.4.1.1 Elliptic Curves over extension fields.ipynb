{
 "cells": [
  {
   "cell_type": "code",
   "execution_count": 1,
   "id": "9e527c09",
   "metadata": {},
   "outputs": [
    {
     "data": {
      "text/plain": [
       "True"
      ]
     },
     "execution_count": 1,
     "metadata": {},
     "output_type": "execute_result"
    }
   ],
   "source": [
    "# Exercise 76\n",
    "F5= GF(5)\n",
    "F5t.<t> = F5[]\n",
    "P_MOD_2 = F5t(t^2+2)\n",
    "P_MOD_2.is_irreducible()"
   ]
  },
  {
   "cell_type": "code",
   "execution_count": 5,
   "id": "963e2666",
   "metadata": {},
   "outputs": [
    {
     "data": {
      "text/plain": [
       "27"
      ]
     },
     "execution_count": 5,
     "metadata": {},
     "output_type": "execute_result"
    }
   ],
   "source": [
    "F5_2.<t> = GF(5^2, name='t', modulus=P_MOD_2)\n",
    "E1F5_2 = EllipticCurve(F5_2,[1,1])\n",
    "E1F5_2.order()"
   ]
  },
  {
   "cell_type": "code",
   "execution_count": 12,
   "id": "efa3fa17",
   "metadata": {},
   "outputs": [
    {
     "data": {
      "text/plain": [
       "(0 : 1 : 1)"
      ]
     },
     "execution_count": 12,
     "metadata": {},
     "output_type": "execute_result"
    }
   ],
   "source": [
    "P = E1F5_2.point([4*t+3, 2*t+1])\n",
    "Q = E1F5_2.point([3*t+3, 2])\n",
    "P+Q"
   ]
  },
  {
   "cell_type": "code",
   "execution_count": null,
   "id": "b79db041",
   "metadata": {},
   "outputs": [],
   "source": []
  }
 ],
 "metadata": {
  "kernelspec": {
   "display_name": "SageMath 9.8",
   "language": "sage",
   "name": "sagemath-9.8"
  },
  "language_info": {
   "codemirror_mode": {
    "name": "ipython",
    "version": 3
   },
   "file_extension": ".py",
   "mimetype": "text/x-python",
   "name": "python",
   "nbconvert_exporter": "python",
   "pygments_lexer": "ipython3",
   "version": "3.11.1"
  }
 },
 "nbformat": 4,
 "nbformat_minor": 5
}
