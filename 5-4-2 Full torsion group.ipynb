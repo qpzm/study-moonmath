{
 "cells": [
  {
   "cell_type": "code",
   "execution_count": 24,
   "id": "09ad284e",
   "metadata": {},
   "outputs": [
    {
     "data": {
      "text/plain": [
       "True"
      ]
     },
     "execution_count": 24,
     "metadata": {},
     "output_type": "execute_result"
    }
   ],
   "source": [
    "F5 = GF(5) # Finite Field F_5\n",
    "F5t.<t> = F5[] # defines a polynomial ring over the finite field F5 with an indeterminate t.\n",
    "P_MOD_2 = F5t(t^2+2) # creates a polynomial P_MOD_2 in the polynomial ring F5t\n",
    "P_MOD_2.is_irreducible()"
   ]
  },
  {
   "cell_type": "code",
   "execution_count": 25,
   "id": "56f055e9",
   "metadata": {},
   "outputs": [
    {
     "data": {
      "text/plain": [
       "27"
      ]
     },
     "execution_count": 25,
     "metadata": {},
     "output_type": "execute_result"
    }
   ],
   "source": [
    "F5_2.<t> = GF(5^2, name='t', modulus=P_MOD_2)\n",
    "ElF5_2 = EllipticCurve(F5_2, [1,1])\n",
    "ElF5_2.order()"
   ]
  },
  {
   "cell_type": "code",
   "execution_count": 26,
   "id": "fd38dee7",
   "metadata": {},
   "outputs": [
    {
     "data": {
      "text/plain": [
       "(1 : t : 1)"
      ]
     },
     "execution_count": 26,
     "metadata": {},
     "output_type": "execute_result"
    }
   ],
   "source": [
    "ElF5_2[3] # (1, t)"
   ]
  },
  {
   "cell_type": "code",
   "execution_count": 27,
   "id": "7475d088",
   "metadata": {},
   "outputs": [],
   "source": [
    "# Example 91.\n",
    "INF = ElF5_2(0)\n",
    "L_E1_3 = []\n",
    "for p in ElF5_2:\n",
    "    if 3*p == INF:\n",
    "        L_E1_3.append(p)\n",
    "El_3 = Set(L_E1_3) # Full 3-torsion set"
   ]
  },
  {
   "cell_type": "code",
   "execution_count": 30,
   "id": "c2caaee2",
   "metadata": {},
   "outputs": [
    {
     "data": {
      "text/plain": [
       "(2 : 1 : 1)"
      ]
     },
     "execution_count": 30,
     "metadata": {},
     "output_type": "execute_result"
    }
   ],
   "source": [
    "El_3[1] # (2, 1)"
   ]
  },
  {
   "cell_type": "code",
   "execution_count": 29,
   "id": "ee480f2d",
   "metadata": {},
   "outputs": [
    {
     "ename": "NameError",
     "evalue": "name 'E1F5_2' is not defined",
     "output_type": "error",
     "traceback": [
      "\u001b[0;31m---------------------------------------------------------------------------\u001b[0m",
      "\u001b[0;31mNameError\u001b[0m                                 Traceback (most recent call last)",
      "Cell \u001b[0;32mIn [29], line 3\u001b[0m\n\u001b[1;32m      1\u001b[0m L_G1 \u001b[38;5;241m=\u001b[39m []\n\u001b[1;32m      2\u001b[0m \u001b[38;5;28;01mfor\u001b[39;00m P \u001b[38;5;129;01min\u001b[39;00m El_3:\n\u001b[0;32m----> 3\u001b[0m     PiP \u001b[38;5;241m=\u001b[39m \u001b[43mE1F5_2\u001b[49m([a\u001b[38;5;241m.\u001b[39mfrobenius() \u001b[38;5;28;01mfor\u001b[39;00m a \u001b[38;5;129;01min\u001b[39;00m P]) \u001b[38;5;66;03m# pi(P)\u001b[39;00m\n\u001b[1;32m      4\u001b[0m     \u001b[38;5;28;01mif\u001b[39;00m P \u001b[38;5;241m==\u001b[39m PiP:\n\u001b[1;32m      5\u001b[0m         L_G1\u001b[38;5;241m.\u001b[39mappend(P)\n",
      "\u001b[0;31mNameError\u001b[0m: name 'E1F5_2' is not defined"
     ]
    }
   ],
   "source": [
    "L_G1 = []\n",
    "for P in El_3:\n",
    "    PiP = E1F5_2([a.frobenius() for a in P]) # pi(P)\n",
    "    if P == PiP:\n",
    "        L_G1.append(P)\n",
    "G2 = Set(L_G1)"
   ]
  },
  {
   "cell_type": "code",
   "execution_count": null,
   "id": "ac135788",
   "metadata": {},
   "outputs": [],
   "source": [
    "pP = 5*P\n",
    "    if pP == PiP:\n",
    "        L_G2.append(P)\n",
    "G2 = Set(L_G2)"
   ]
  }
 ],
 "metadata": {
  "kernelspec": {
   "display_name": "SageMath 9.8",
   "language": "sage",
   "name": "sagemath-9.8"
  },
  "language_info": {
   "codemirror_mode": {
    "name": "ipython",
    "version": 3
   },
   "file_extension": ".py",
   "mimetype": "text/x-python",
   "name": "python",
   "nbconvert_exporter": "python",
   "pygments_lexer": "ipython3",
   "version": "3.11.1"
  }
 },
 "nbformat": 4,
 "nbformat_minor": 5
}
