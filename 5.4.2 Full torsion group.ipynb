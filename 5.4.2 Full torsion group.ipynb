{
 "cells": [
  {
   "cell_type": "code",
   "execution_count": 42,
   "id": "36140459",
   "metadata": {},
   "outputs": [
    {
     "data": {
      "text/plain": [
       "True"
      ]
     },
     "execution_count": 42,
     "metadata": {},
     "output_type": "execute_result"
    }
   ],
   "source": [
    "# Example 91.\n",
    "F5 = GF(5) # Finite Field F_5\n",
    "F5t.<t> = F5[] # defines a polynomial ring over the finite field F5 with an indeterminate t.\n",
    "P_MOD_2 = F5t(t^2+2) # creates a polynomial P_MOD_2 in the polynomial ring F5t\n",
    "P_MOD_2.is_irreducible()"
   ]
  },
  {
   "cell_type": "code",
   "execution_count": 43,
   "id": "32f782cb",
   "metadata": {},
   "outputs": [
    {
     "data": {
      "text/plain": [
       "27"
      ]
     },
     "execution_count": 43,
     "metadata": {},
     "output_type": "execute_result"
    }
   ],
   "source": [
    "F5_2.<t> = GF(5^2, name='t', modulus=P_MOD_2)\n",
    "ElF5_2 = EllipticCurve(F5_2, [1,1])\n",
    "ElF5_2.order()"
   ]
  },
  {
   "cell_type": "code",
   "execution_count": 54,
   "id": "dcd7870d",
   "metadata": {},
   "outputs": [
    {
     "name": "stdout",
     "output_type": "stream",
     "text": [
      "Elliptic Curve defined by y^2 = x^3 + x + 1 over Finite Field in t of size 5^2\n"
     ]
    }
   ],
   "source": [
    "print(ElF5_2)"
   ]
  },
  {
   "cell_type": "code",
   "execution_count": 45,
   "id": "e7b27a06",
   "metadata": {},
   "outputs": [],
   "source": [
    "INF = ElF5_2(0)\n",
    "L_E1_3 = []\n",
    "for p in ElF5_2:\n",
    "    if 3*p == INF:\n",
    "        L_E1_3.append(p)\n",
    "El_3 = Set(L_E1_3) # Full 3-torsion set because 3 divides (5^2 - 1)"
   ]
  },
  {
   "cell_type": "code",
   "execution_count": 53,
   "id": "9219d8de",
   "metadata": {},
   "outputs": [
    {
     "name": "stdout",
     "output_type": "stream",
     "text": [
      "{(1 : t : 1), (2 : 1 : 1), (0 : 1 : 0), (2 : 4 : 1), (2*t + 1 : t + 1 : 1), (2*t + 1 : 4*t + 4 : 1), (3*t + 1 : t + 4 : 1), (1 : 4*t : 1), (3*t + 1 : 4*t + 1 : 1)}\n"
     ]
    }
   ],
   "source": [
    "print(El_3)"
   ]
  },
  {
   "cell_type": "code",
   "execution_count": 49,
   "id": "69eb6f33",
   "metadata": {},
   "outputs": [
    {
     "data": {
      "text/plain": [
       "9"
      ]
     },
     "execution_count": 49,
     "metadata": {},
     "output_type": "execute_result"
    }
   ],
   "source": [
    "El_3.cardinality() # 3 * 3"
   ]
  },
  {
   "cell_type": "code",
   "execution_count": 57,
   "id": "af86f102",
   "metadata": {},
   "outputs": [
    {
     "name": "stdout",
     "output_type": "stream",
     "text": [
      "{(2 : 1 : 1), (2 : 4 : 1), (0 : 1 : 0)}\n"
     ]
    }
   ],
   "source": [
    "# Example 94.\n",
    "L_G1 = []\n",
    "for P in El_3:\n",
    "    PiP = ElF5_2([a.frobenius() for a in P]) # pi(P), i.e. p-square each coordinate\n",
    "    if P == PiP:\n",
    "        L_G1.append(P)\n",
    "G1 = Set(L_G1)\n",
    "print(G1)"
   ]
  },
  {
   "cell_type": "code",
   "execution_count": 51,
   "id": "974639aa",
   "metadata": {},
   "outputs": [
    {
     "data": {
      "text/plain": [
       "3"
      ]
     },
     "execution_count": 51,
     "metadata": {},
     "output_type": "execute_result"
    }
   ],
   "source": [
    "G1.cardinality()"
   ]
  },
  {
   "cell_type": "code",
   "execution_count": 59,
   "id": "c4acea2e",
   "metadata": {},
   "outputs": [],
   "source": [
    "L_G2 = []\n",
    "for P in El_3:\n",
    "    PiP = ElF5_2([a.frobenius() for a in P]) # pi(P)\n",
    "    if 5*P == PiP:\n",
    "        L_G2.append(P)\n",
    "G2 = Set(L_G2)"
   ]
  },
  {
   "cell_type": "code",
   "execution_count": 60,
   "id": "a3b06793",
   "metadata": {},
   "outputs": [
    {
     "name": "stdout",
     "output_type": "stream",
     "text": [
      "{(1 : t : 1), (1 : 4*t : 1), (0 : 1 : 0)}\n"
     ]
    }
   ],
   "source": [
    "print(G2) # { O, {1,t}, (1, 4t) }"
   ]
  },
  {
   "cell_type": "code",
   "execution_count": null,
   "id": "49780ce5",
   "metadata": {},
   "outputs": [],
   "source": []
  }
 ],
 "metadata": {
  "kernelspec": {
   "display_name": "SageMath 9.8",
   "language": "sage",
   "name": "sagemath-9.8"
  },
  "language_info": {
   "codemirror_mode": {
    "name": "ipython",
    "version": 3
   },
   "file_extension": ".py",
   "mimetype": "text/x-python",
   "name": "python",
   "nbconvert_exporter": "python",
   "pygments_lexer": "ipython3",
   "version": "3.11.1"
  }
 },
 "nbformat": 4,
 "nbformat_minor": 5
}
