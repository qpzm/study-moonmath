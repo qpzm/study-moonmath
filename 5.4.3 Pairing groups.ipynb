{
 "cells": [
  {
   "cell_type": "code",
   "execution_count": 2,
   "id": "0ff6044f",
   "metadata": {},
   "outputs": [
    {
     "data": {
      "text/plain": [
       "True"
      ]
     },
     "execution_count": 2,
     "metadata": {},
     "output_type": "execute_result"
    }
   ],
   "source": [
    "# Example 91.\n",
    "F5 = GF(5) # Finite Field F_5\n",
    "F5t.<t> = F5[] # defines a polynomial ring over the finite field F5 with an indeterminate t.\n",
    "P_MOD_2 = F5t(t^2+2) # creates a polynomial P_MOD_2 in the polynomial ring F5t\n",
    "P_MOD_2.is_irreducible()"
   ]
  },
  {
   "cell_type": "code",
   "execution_count": 3,
   "id": "847ba339",
   "metadata": {},
   "outputs": [],
   "source": [
    "F5_2.<t> = GF(5^2, name='t', modulus=P_MOD_2)\n",
    "ElF5_2 = EllipticCurve(F5_2, [1,1])"
   ]
  },
  {
   "cell_type": "code",
   "execution_count": 4,
   "id": "d396e61a",
   "metadata": {},
   "outputs": [
    {
     "ename": "NameError",
     "evalue": "name 'El_3' is not defined",
     "output_type": "error",
     "traceback": [
      "\u001b[0;31m---------------------------------------------------------------------------\u001b[0m",
      "\u001b[0;31mNameError\u001b[0m                                 Traceback (most recent call last)",
      "Cell \u001b[0;32mIn [4], line 2\u001b[0m\n\u001b[1;32m      1\u001b[0m L_G1 \u001b[38;5;241m=\u001b[39m []\n\u001b[0;32m----> 2\u001b[0m \u001b[38;5;28;01mfor\u001b[39;00m P \u001b[38;5;129;01min\u001b[39;00m \u001b[43mEl_3\u001b[49m:\n\u001b[1;32m      3\u001b[0m     PiP \u001b[38;5;241m=\u001b[39m ElF5_2([a\u001b[38;5;241m.\u001b[39mfrobenius() \u001b[38;5;28;01mfor\u001b[39;00m a \u001b[38;5;129;01min\u001b[39;00m P]) \u001b[38;5;66;03m# pi(P)\u001b[39;00m\n\u001b[1;32m      4\u001b[0m     \u001b[38;5;28;01mif\u001b[39;00m P \u001b[38;5;241m==\u001b[39m PiP:\n",
      "\u001b[0;31mNameError\u001b[0m: name 'El_3' is not defined"
     ]
    }
   ],
   "source": [
    "L_G1 = []\n",
    "for P in El_3:\n",
    "    PiP = ElF5_2([a.frobenius() for a in P]) # pi(P)\n",
    "    if P == PiP:\n",
    "        L_G1.append(P)\n",
    "G1 = Set(L_G1)"
   ]
  },
  {
   "cell_type": "code",
   "execution_count": 5,
   "id": "4e1723c6",
   "metadata": {},
   "outputs": [
    {
     "ename": "IndentationError",
     "evalue": "unexpected indent (117521205.py, line 2)",
     "output_type": "error",
     "traceback": [
      "\u001b[0;36m  Cell \u001b[0;32mIn [5], line 2\u001b[0;36m\u001b[0m\n\u001b[0;31m    if pP == PiP:\u001b[0m\n\u001b[0m    ^\u001b[0m\n\u001b[0;31mIndentationError\u001b[0m\u001b[0;31m:\u001b[0m unexpected indent\n"
     ]
    }
   ],
   "source": [
    "pP = 5*P\n",
    "    if pP == PiP:\n",
    "        L_G2.append(P)\n",
    "G2 = Set(L_G2)"
   ]
  },
  {
   "cell_type": "code",
   "execution_count": null,
   "id": "c9bbc2f8",
   "metadata": {},
   "outputs": [],
   "source": []
  }
 ],
 "metadata": {
  "kernelspec": {
   "display_name": "SageMath 9.8",
   "language": "sage",
   "name": "sagemath-9.8"
  },
  "language_info": {
   "codemirror_mode": {
    "name": "ipython",
    "version": 3
   },
   "file_extension": ".py",
   "mimetype": "text/x-python",
   "name": "python",
   "nbconvert_exporter": "python",
   "pygments_lexer": "ipython3",
   "version": "3.11.1"
  }
 },
 "nbformat": 4,
 "nbformat_minor": 5
}
