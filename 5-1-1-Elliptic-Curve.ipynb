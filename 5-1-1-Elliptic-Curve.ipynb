{
 "cells": [
  {
   "cell_type": "code",
   "execution_count": 1,
   "id": "1d7dce20",
   "metadata": {},
   "outputs": [],
   "source": [
    "F5 = GF(5)"
   ]
  },
  {
   "cell_type": "code",
   "execution_count": 2,
   "id": "793dffe5",
   "metadata": {},
   "outputs": [],
   "source": [
    "a = F5(2)\n",
    "b = F5(4)"
   ]
  },
  {
   "cell_type": "code",
   "execution_count": 3,
   "id": "e9175800",
   "metadata": {},
   "outputs": [
    {
     "data": {
      "text/plain": [
       "True"
      ]
     },
     "execution_count": 3,
     "metadata": {},
     "output_type": "execute_result"
    }
   ],
   "source": [
    "# check discriminant\n",
    "F5(6) * (F5(4) * a^3 + F5(27) * b^2) != F5(0)"
   ]
  },
  {
   "cell_type": "code",
   "execution_count": 4,
   "id": "a142f24a",
   "metadata": {},
   "outputs": [],
   "source": [
    "E = EllipticCurve(F5, [a,b]) # y^2 == x^3 + ax + b"
   ]
  },
  {
   "cell_type": "code",
   "execution_count": 5,
   "id": "e96e095c",
   "metadata": {},
   "outputs": [],
   "source": [
    "P = E(0,2) # 2^2 == 0^3 + 2*0 + 4"
   ]
  },
  {
   "cell_type": "code",
   "execution_count": 6,
   "id": "f0a9aa66",
   "metadata": {},
   "outputs": [
    {
     "data": {
      "text/plain": [
       "(0, 2)"
      ]
     },
     "execution_count": 6,
     "metadata": {},
     "output_type": "execute_result"
    }
   ],
   "source": [
    "P.xy()"
   ]
  },
  {
   "cell_type": "code",
   "execution_count": 7,
   "id": "ffb8dba8",
   "metadata": {},
   "outputs": [
    {
     "data": {
      "text/plain": [
       "(2, 4)"
      ]
     },
     "execution_count": 7,
     "metadata": {},
     "output_type": "execute_result"
    }
   ],
   "source": [
    "P = E(2,4)\n",
    "P.xy()"
   ]
  },
  {
   "cell_type": "code",
   "execution_count": 13,
   "id": "947455b9",
   "metadata": {},
   "outputs": [
    {
     "ename": "TypeError",
     "evalue": "Coordinates [3, 1, 1] do not define a point on Elliptic Curve defined by y^2 = x^3 + 2*x + 4 over Finite Field of size 5",
     "output_type": "error",
     "traceback": [
      "\u001b[0;31m---------------------------------------------------------------------------\u001b[0m",
      "\u001b[0;31mKeyError\u001b[0m                                  Traceback (most recent call last)",
      "File \u001b[0;32m/private/var/tmp/sage-9.8-current/local/var/lib/sage/venv-python3.11.1/lib/python3.11/site-packages/sage/structure/category_object.pyx:839\u001b[0m, in \u001b[0;36msage.structure.category_object.CategoryObject.getattr_from_category (build/cythonized/sage/structure/category_object.c:7204)\u001b[0;34m()\u001b[0m\n\u001b[1;32m    838\u001b[0m try:\n\u001b[0;32m--> 839\u001b[0m     return self.__cached_methods[name]\n\u001b[1;32m    840\u001b[0m except KeyError:\n",
      "\u001b[0;31mKeyError\u001b[0m: 'point_homset'",
      "\nDuring handling of the above exception, another exception occurred:\n",
      "\u001b[0;31mAttributeError\u001b[0m                            Traceback (most recent call last)",
      "File \u001b[0;32m/private/var/tmp/sage-9.8-current/local/var/lib/sage/venv-python3.11.1/lib/python3.11/site-packages/sage/schemes/projective/projective_subscheme.py:122\u001b[0m, in \u001b[0;36mAlgebraicScheme_subscheme_projective.point\u001b[0;34m(self, v, check)\u001b[0m\n\u001b[1;32m    121\u001b[0m \u001b[38;5;28;01mtry\u001b[39;00m:\n\u001b[0;32m--> 122\u001b[0m     \u001b[38;5;28;01mreturn\u001b[39;00m \u001b[38;5;28;43mself\u001b[39;49m\u001b[38;5;241;43m.\u001b[39;49m\u001b[43m_point\u001b[49m\u001b[43m(\u001b[49m\u001b[38;5;28;43mself\u001b[39;49m\u001b[38;5;241;43m.\u001b[39;49m\u001b[43mpoint_homset\u001b[49m\u001b[43m(\u001b[49m\u001b[43m)\u001b[49m\u001b[43m,\u001b[49m\u001b[43m \u001b[49m\u001b[43mv\u001b[49m\u001b[43m,\u001b[49m\u001b[43m \u001b[49m\u001b[43mcheck\u001b[49m\u001b[38;5;241;43m=\u001b[39;49m\u001b[43mcheck\u001b[49m\u001b[43m)\u001b[49m\n\u001b[1;32m    123\u001b[0m \u001b[38;5;28;01mexcept\u001b[39;00m \u001b[38;5;167;01mAttributeError\u001b[39;00m:  \u001b[38;5;66;03m# legacy code without point_homset\u001b[39;00m\n",
      "File \u001b[0;32m/private/var/tmp/sage-9.8-current/local/var/lib/sage/venv-python3.11.1/lib/python3.11/site-packages/sage/schemes/elliptic_curves/ell_point.py:256\u001b[0m, in \u001b[0;36mEllipticCurvePoint_field.__init__\u001b[0;34m(self, curve, v, check)\u001b[0m\n\u001b[1;32m    235\u001b[0m \u001b[38;5;124;03m\"\"\"\u001b[39;00m\n\u001b[1;32m    236\u001b[0m \u001b[38;5;124;03mConstructor for a point on an elliptic curve.\u001b[39;00m\n\u001b[1;32m    237\u001b[0m \n\u001b[0;32m   (...)\u001b[0m\n\u001b[1;32m    254\u001b[0m \u001b[38;5;124;03m    (1 : -2 : 1)\u001b[39;00m\n\u001b[1;32m    255\u001b[0m \u001b[38;5;124;03m\"\"\"\u001b[39;00m\n\u001b[0;32m--> 256\u001b[0m point_homset \u001b[38;5;241m=\u001b[39m \u001b[43mcurve\u001b[49m\u001b[38;5;241;43m.\u001b[39;49m\u001b[43mpoint_homset\u001b[49m()\n\u001b[1;32m    257\u001b[0m R \u001b[38;5;241m=\u001b[39m point_homset\u001b[38;5;241m.\u001b[39mvalue_ring()\n",
      "File \u001b[0;32m/private/var/tmp/sage-9.8-current/local/var/lib/sage/venv-python3.11.1/lib/python3.11/site-packages/sage/structure/category_object.pyx:833\u001b[0m, in \u001b[0;36msage.structure.category_object.CategoryObject.__getattr__ (build/cythonized/sage/structure/category_object.c:7123)\u001b[0;34m()\u001b[0m\n\u001b[1;32m    832\u001b[0m \"\"\"\n\u001b[0;32m--> 833\u001b[0m return self.getattr_from_category(name)\n\u001b[1;32m    834\u001b[0m \n",
      "File \u001b[0;32m/private/var/tmp/sage-9.8-current/local/var/lib/sage/venv-python3.11.1/lib/python3.11/site-packages/sage/structure/category_object.pyx:848\u001b[0m, in \u001b[0;36msage.structure.category_object.CategoryObject.getattr_from_category (build/cythonized/sage/structure/category_object.c:7289)\u001b[0;34m()\u001b[0m\n\u001b[1;32m    847\u001b[0m \n\u001b[0;32m--> 848\u001b[0m             attr = getattr_from_other_class(self, cls, name)\n\u001b[1;32m    849\u001b[0m             self.__cached_methods[name] = attr\n",
      "File \u001b[0;32m/private/var/tmp/sage-9.8-current/local/var/lib/sage/venv-python3.11.1/lib/python3.11/site-packages/sage/cpython/getattr.pyx:356\u001b[0m, in \u001b[0;36msage.cpython.getattr.getattr_from_other_class (build/cythonized/sage/cpython/getattr.c:2706)\u001b[0;34m()\u001b[0m\n\u001b[1;32m    355\u001b[0m     dummy_error_message.name = name\n\u001b[0;32m--> 356\u001b[0m     raise AttributeError(dummy_error_message)\n\u001b[1;32m    357\u001b[0m cdef PyObject* attr = instance_getattr(cls, name)\n",
      "\u001b[0;31mAttributeError\u001b[0m: 'sage.rings.finite_rings.integer_mod.IntegerMod_int' object has no attribute '__custom_name'",
      "\nDuring handling of the above exception, another exception occurred:\n",
      "\u001b[0;31mTypeError\u001b[0m                                 Traceback (most recent call last)",
      "Cell \u001b[0;32mIn [13], line 1\u001b[0m\n\u001b[0;32m----> 1\u001b[0m P \u001b[38;5;241m=\u001b[39m \u001b[43mE\u001b[49m\u001b[43m(\u001b[49m\u001b[43mInteger\u001b[49m\u001b[43m(\u001b[49m\u001b[38;5;241;43m3\u001b[39;49m\u001b[43m)\u001b[49m\u001b[43m,\u001b[49m\u001b[43mInteger\u001b[49m\u001b[43m(\u001b[49m\u001b[38;5;241;43m1\u001b[39;49m\u001b[43m)\u001b[49m\u001b[43m)\u001b[49m\n\u001b[1;32m      2\u001b[0m P\u001b[38;5;241m.\u001b[39mxy()\n",
      "File \u001b[0;32m/private/var/tmp/sage-9.8-current/local/var/lib/sage/venv-python3.11.1/lib/python3.11/site-packages/sage/schemes/elliptic_curves/ell_generic.py:570\u001b[0m, in \u001b[0;36mEllipticCurve_generic.__call__\u001b[0;34m(self, *args, **kwds)\u001b[0m\n\u001b[1;32m    567\u001b[0m             \u001b[38;5;28;01mreturn\u001b[39;00m \u001b[38;5;28mself\u001b[39m\u001b[38;5;241m.\u001b[39m_reduce_point(args[\u001b[38;5;241m0\u001b[39m], characteristic)\n\u001b[1;32m    568\u001b[0m     args \u001b[38;5;241m=\u001b[39m \u001b[38;5;28mtuple\u001b[39m(args[\u001b[38;5;241m0\u001b[39m])\n\u001b[0;32m--> 570\u001b[0m \u001b[38;5;28;01mreturn\u001b[39;00m \u001b[43mplane_curve\u001b[49m\u001b[38;5;241;43m.\u001b[39;49m\u001b[43mProjectivePlaneCurve\u001b[49m\u001b[38;5;241;43m.\u001b[39;49m\u001b[38;5;21;43m__call__\u001b[39;49m\u001b[43m(\u001b[49m\u001b[38;5;28;43mself\u001b[39;49m\u001b[43m,\u001b[49m\u001b[43m \u001b[49m\u001b[38;5;241;43m*\u001b[39;49m\u001b[43margs\u001b[49m\u001b[43m,\u001b[49m\u001b[43m \u001b[49m\u001b[38;5;241;43m*\u001b[39;49m\u001b[38;5;241;43m*\u001b[39;49m\u001b[43mkwds\u001b[49m\u001b[43m)\u001b[49m\n",
      "File \u001b[0;32m/private/var/tmp/sage-9.8-current/local/var/lib/sage/venv-python3.11.1/lib/python3.11/site-packages/sage/schemes/generic/scheme.py:266\u001b[0m, in \u001b[0;36mScheme.__call__\u001b[0;34m(self, *args)\u001b[0m\n\u001b[1;32m    264\u001b[0m             \u001b[38;5;28;01mreturn\u001b[39;00m S\n\u001b[1;32m    265\u001b[0m         args \u001b[38;5;241m=\u001b[39m S\n\u001b[0;32m--> 266\u001b[0m \u001b[38;5;28;01mreturn\u001b[39;00m \u001b[38;5;28;43mself\u001b[39;49m\u001b[38;5;241;43m.\u001b[39;49m\u001b[43mpoint\u001b[49m\u001b[43m(\u001b[49m\u001b[43margs\u001b[49m\u001b[43m)\u001b[49m\n",
      "File \u001b[0;32m/private/var/tmp/sage-9.8-current/local/var/lib/sage/venv-python3.11.1/lib/python3.11/site-packages/sage/schemes/projective/projective_subscheme.py:124\u001b[0m, in \u001b[0;36mAlgebraicScheme_subscheme_projective.point\u001b[0;34m(self, v, check)\u001b[0m\n\u001b[1;32m    122\u001b[0m         \u001b[38;5;28;01mreturn\u001b[39;00m \u001b[38;5;28mself\u001b[39m\u001b[38;5;241m.\u001b[39m_point(\u001b[38;5;28mself\u001b[39m\u001b[38;5;241m.\u001b[39mpoint_homset(), v, check\u001b[38;5;241m=\u001b[39mcheck)\n\u001b[1;32m    123\u001b[0m     \u001b[38;5;28;01mexcept\u001b[39;00m \u001b[38;5;167;01mAttributeError\u001b[39;00m:  \u001b[38;5;66;03m# legacy code without point_homset\u001b[39;00m\n\u001b[0;32m--> 124\u001b[0m         \u001b[38;5;28;01mreturn\u001b[39;00m \u001b[38;5;28;43mself\u001b[39;49m\u001b[38;5;241;43m.\u001b[39;49m\u001b[43m_point\u001b[49m\u001b[43m(\u001b[49m\u001b[38;5;28;43mself\u001b[39;49m\u001b[43m,\u001b[49m\u001b[43m \u001b[49m\u001b[43mv\u001b[49m\u001b[43m,\u001b[49m\u001b[43m \u001b[49m\u001b[43mcheck\u001b[49m\u001b[38;5;241;43m=\u001b[39;49m\u001b[43mcheck\u001b[49m\u001b[43m)\u001b[49m\n\u001b[1;32m    126\u001b[0m \u001b[38;5;28;01mreturn\u001b[39;00m \u001b[38;5;28mself\u001b[39m\u001b[38;5;241m.\u001b[39mpoint_homset()(v, check\u001b[38;5;241m=\u001b[39mcheck)\n",
      "File \u001b[0;32m/private/var/tmp/sage-9.8-current/local/var/lib/sage/venv-python3.11.1/lib/python3.11/site-packages/sage/schemes/elliptic_curves/ell_point.py:295\u001b[0m, in \u001b[0;36mEllipticCurvePoint_field.__init__\u001b[0;34m(self, curve, v, check)\u001b[0m\n\u001b[1;32m    293\u001b[0m         test \u001b[38;5;241m=\u001b[39m y\u001b[38;5;241m*\u001b[39m\u001b[38;5;241m*\u001b[39m\u001b[38;5;241m2\u001b[39m \u001b[38;5;241m+\u001b[39m (a1\u001b[38;5;241m*\u001b[39mx\u001b[38;5;241m+\u001b[39ma3)\u001b[38;5;241m*\u001b[39my \u001b[38;5;241m-\u001b[39m (((x\u001b[38;5;241m+\u001b[39ma2)\u001b[38;5;241m*\u001b[39mx\u001b[38;5;241m+\u001b[39ma4)\u001b[38;5;241m*\u001b[39mx\u001b[38;5;241m+\u001b[39ma6)\n\u001b[1;32m    294\u001b[0m     \u001b[38;5;28;01mif\u001b[39;00m \u001b[38;5;129;01mnot\u001b[39;00m test \u001b[38;5;241m==\u001b[39m \u001b[38;5;241m0\u001b[39m:\n\u001b[0;32m--> 295\u001b[0m         \u001b[38;5;28;01mraise\u001b[39;00m \u001b[38;5;167;01mTypeError\u001b[39;00m(\u001b[38;5;124m\"\u001b[39m\u001b[38;5;124mCoordinates \u001b[39m\u001b[38;5;132;01m%s\u001b[39;00m\u001b[38;5;124m do not define a point on \u001b[39m\u001b[38;5;132;01m%s\u001b[39;00m\u001b[38;5;124m\"\u001b[39m \u001b[38;5;241m%\u001b[39m (\u001b[38;5;28mlist\u001b[39m(v), curve))\n\u001b[1;32m    297\u001b[0m SchemeMorphism_point_abelian_variety_field\u001b[38;5;241m.\u001b[39m\u001b[38;5;21m__init__\u001b[39m(\u001b[38;5;28mself\u001b[39m, point_homset, v, check\u001b[38;5;241m=\u001b[39m\u001b[38;5;28;01mFalse\u001b[39;00m)\n",
      "\u001b[0;31mTypeError\u001b[0m: Coordinates [3, 1, 1] do not define a point on Elliptic Curve defined by y^2 = x^3 + 2*x + 4 over Finite Field of size 5"
     ]
    }
   ],
   "source": [
    "# P = E(3,1) # this is not in the curve, so raises an error."
   ]
  },
  {
   "cell_type": "code",
   "execution_count": 8,
   "id": "af01b50e",
   "metadata": {},
   "outputs": [],
   "source": [
    "INF = E(0)"
   ]
  },
  {
   "cell_type": "code",
   "execution_count": 9,
   "id": "3d4779ca",
   "metadata": {},
   "outputs": [],
   "source": [
    "try:\n",
    "    INF.xy()\n",
    "except ZeroDivisionError:\n",
    "    pass"
   ]
  },
  {
   "cell_type": "code",
   "execution_count": 10,
   "id": "a91db892",
   "metadata": {},
   "outputs": [],
   "source": [
    "P = E.plot()"
   ]
  },
  {
   "cell_type": "code",
   "execution_count": 11,
   "id": "adf949c8",
   "metadata": {},
   "outputs": [
    {
     "data": {
      "image/png": "[encoded data removed]",
      "text/plain": [
       "Graphics object consisting of 1 graphics primitive"
      ]
     },
     "metadata": {},
     "output_type": "display_data"
    }
   ],
   "source": [
    "show(P)"
   ]
  },
  {
   "cell_type": "code",
   "execution_count": null,
   "id": "ac0b81bb",
   "metadata": {},
   "outputs": [],
   "source": []
  }
 ],
 "metadata": {
  "kernelspec": {
   "display_name": "SageMath 9.8",
   "language": "sage",
   "name": "sagemath-9.8"
  },
  "language_info": {
   "codemirror_mode": {
    "name": "ipython",
    "version": 3
   },
   "file_extension": ".py",
   "mimetype": "text/x-python",
   "name": "python",
   "nbconvert_exporter": "python",
   "pygments_lexer": "ipython3",
   "version": "3.11.1"
  }
 },
 "nbformat": 4,
 "nbformat_minor": 5
}
