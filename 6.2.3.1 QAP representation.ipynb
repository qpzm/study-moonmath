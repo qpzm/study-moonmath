{
 "cells": [
  {
   "cell_type": "code",
   "execution_count": 1,
   "id": "8c86b40e",
   "metadata": {},
   "outputs": [],
   "source": [
    "F13 = GF(13)"
   ]
  },
  {
   "cell_type": "code",
   "execution_count": 2,
   "id": "026ee5a2",
   "metadata": {},
   "outputs": [],
   "source": [
    "F13t.<t> = F13[]"
   ]
  },
  {
   "cell_type": "code",
   "execution_count": 3,
   "id": "922c7d6b",
   "metadata": {},
   "outputs": [],
   "source": [
    "T = F13t((t-5)*(t-7))"
   ]
  },
  {
   "cell_type": "code",
   "execution_count": 4,
   "id": "2010d95a",
   "metadata": {},
   "outputs": [],
   "source": [
    "A2 = F13t.lagrange_polynomial([(5,1),(7,0)])"
   ]
  },
  {
   "cell_type": "code",
   "execution_count": 5,
   "id": "2f3d27fc",
   "metadata": {},
   "outputs": [],
   "source": [
    "A5 = F13t.lagrange_polynomial([(5,0),(7,1)])"
   ]
  },
  {
   "cell_type": "code",
   "execution_count": 6,
   "id": "80e886a9",
   "metadata": {},
   "outputs": [
    {
     "data": {
      "text/plain": [
       "True"
      ]
     },
     "execution_count": 6,
     "metadata": {},
     "output_type": "execute_result"
    }
   ],
   "source": [
    "T == F13t(t^2 + t + 9)"
   ]
  },
  {
   "cell_type": "code",
   "execution_count": 7,
   "id": "90cbaf2b",
   "metadata": {},
   "outputs": [
    {
     "data": {
      "text/plain": [
       "True"
      ]
     },
     "execution_count": 7,
     "metadata": {},
     "output_type": "execute_result"
    }
   ],
   "source": [
    "A2 == F13t(6*t + 10)"
   ]
  },
  {
   "cell_type": "code",
   "execution_count": 8,
   "id": "b397c2fd",
   "metadata": {},
   "outputs": [
    {
     "data": {
      "text/plain": [
       "True"
      ]
     },
     "execution_count": 8,
     "metadata": {},
     "output_type": "execute_result"
    }
   ],
   "source": [
    "A5 == F13t(7*t + 4)"
   ]
  },
  {
   "cell_type": "code",
   "execution_count": null,
   "id": "85af452e",
   "metadata": {},
   "outputs": [],
   "source": []
  }
 ],
 "metadata": {
  "kernelspec": {
   "display_name": "SageMath 9.8",
   "language": "sage",
   "name": "sagemath-9.8"
  },
  "language_info": {
   "codemirror_mode": {
    "name": "ipython",
    "version": 3
   },
   "file_extension": ".py",
   "mimetype": "text/x-python",
   "name": "python",
   "nbconvert_exporter": "python",
   "pygments_lexer": "ipython3",
   "version": "3.11.1"
  }
 },
 "nbformat": 4,
 "nbformat_minor": 5
}
