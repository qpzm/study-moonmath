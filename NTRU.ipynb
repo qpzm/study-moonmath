{
 "cells": [
  {
   "cell_type": "code",
   "execution_count": 9,
   "id": "d5837f0c-065a-40c6-b868-f1f548782f4a",
   "metadata": {},
   "outputs": [
    {
     "name": "stdout",
     "output_type": "stream",
     "text": [
      "x^6 - x^4 + x^3 + x^2 - 1\n",
      "xbar^6 + xbar^4 - xbar^2 - xbar\n",
      "x^6 + 2*x^5 + x^3 + x^2 + x + 1\n",
      "8*x^6 + 26*x^5 + 31*x^4 + 21*x^3 + 40*x^2 + 2*x + 37\n",
      "31*xbar^6 + 19*xbar^5 + 4*xbar^4 + 2*xbar^3 + 40*xbar^2 + 3*xbar + 25\n",
      "xbar^6 + 10*xbar^5 + 33*xbar^4 + 40*xbar^3 + 40*xbar^2 + xbar + 40\n",
      "Univariate Polynomial Ring in x over Ring of integers modulo 41\n",
      "x^6 + 10*x^5 + 33*x^4 + 40*x^3 + 40*x^2 + x + 40\n",
      "Univariate Quotient Polynomial Ring in xbar over Integer Ring with modulus x^7 - 1\n",
      "a_centered xbar^6 + 10*xbar^5 - 8*xbar^4 - xbar^3 - xbar^2 + xbar - 1\n"
     ]
    },
    {
     "data": {
      "text/plain": [
       "-xbar^5 + xbar^3 + xbar^2 - xbar + 1"
      ]
     },
     "execution_count": 9,
     "metadata": {},
     "output_type": "execute_result"
    }
   ],
   "source": [
    "# Example 7.53\n",
    "# Set NTRU parameters\n",
    "N = 7  # Degree of polynomials\n",
    "p = 3  # Small modulus\n",
    "q = 41  # Large modulus\n",
    "d = 2\n",
    "\n",
    "# Polynomial ring modulo X^N - 1\n",
    "R.<x> = PolynomialRing(ZZ)\n",
    "R_mod = QuotientRing(R, R.ideal(x^N - 1))\n",
    "\n",
    "f = R([-1, 0, 1, 1, -1, 0, 1])\n",
    "g = R_mod([0, -1, -1, 0, 1, 0, 1])\n",
    "print(f)\n",
    "print(g)\n",
    "\n",
    "f_p = f.change_ring(Integers(p)).inverse_mod(x^N - 1)\n",
    "print(f_p)\n",
    "\n",
    "f_q = f.change_ring(Integers(q)).inverse_mod(x^N - 1)\n",
    "print(f_q)\n",
    "\n",
    "h = (f_q * g)\n",
    "\n",
    "m = R_mod([1, -1, 1, 1, 0, -1])\n",
    "r = R_mod([-1, 1, 0, 0, 0, -1, 1])\n",
    "\n",
    "e = p * r * f_q * g + m\n",
    "print(e)\n",
    "\n",
    "print(f * e)\n",
    "\n",
    "print((f * e).lift().parent()) # 41\n",
    "a = (f * e).lift()\n",
    "print(a)\n",
    "\n",
    "a_centered = R_mod([coeff.lift_centered() for coeff in a])\n",
    "print(a_centered.parent())\n",
    "print(\"a_centered\", a_centered)\n",
    "\n",
    "m = f_p * a_centered\n",
    "m_centered = R_mod([coeff.lift_centered() for coeff in m])\n",
    "m_centered # [1, -1, 1, 1, 0, -1]"
   ]
  },
  {
   "cell_type": "code",
   "execution_count": 10,
   "id": "1ab500ec-d48f-43d7-996b-b7fbb1908d1d",
   "metadata": {},
   "outputs": [
    {
     "name": "stdout",
     "output_type": "stream",
     "text": [
      "x^5 + x^4 - x^3 + x - 1\n",
      "xbar^6 + xbar^5 + xbar^4 - xbar^2 + xbar + 1\n",
      "x^6 + x^5 + x^4 + 2*x^2 + x + 1\n",
      "13*x^6 + 12*x^5 + 31*x^4 + 22*x^3 + 8*x^2 + 15*x + 11\n",
      "9*xbar^6 + 3*xbar^5 + 29*xbar^4 + xbar^3 + 5*xbar^2 + 32*xbar + 33\n",
      "Univariate Polynomial Ring in x over Finite Field of size 37\n",
      "9*x^6 + 3*x^5 + 29*x^4 + x^3 + 5*x^2 + 32*x + 33\n",
      "Univariate Quotient Polynomial Ring in xbar over Integer Ring with modulus x^7 - 1\n",
      "a_centered 9*xbar^6 + 3*xbar^5 - 8*xbar^4 + xbar^3 + 5*xbar^2 - 5*xbar - 4\n"
     ]
    },
    {
     "data": {
      "text/plain": [
       "xbar^6 - xbar^4 + xbar"
      ]
     },
     "execution_count": 10,
     "metadata": {},
     "output_type": "execute_result"
    }
   ],
   "source": [
    "# Exercise 7.29\n",
    "# Set NTRU parameters\n",
    "N = 7  # Degree of polynomials\n",
    "p = 3  # Small modulus\n",
    "q = 37  # Large modulus\n",
    "d = 2\n",
    "\n",
    "# Polynomial ring modulo X^N - 1\n",
    "R.<x> = PolynomialRing(ZZ)\n",
    "R_mod = QuotientRing(R, R.ideal(x^N - 1))\n",
    "\n",
    "f = R([-1, 1, 0, -1, 1, 1])\n",
    "g = R_mod([1, 1, -1, 0, 1, 1, 1])\n",
    "print(f)\n",
    "print(g)\n",
    "\n",
    "f_p = f.change_ring(Integers(p)).inverse_mod(x^N - 1)\n",
    "print(f_p)\n",
    "\n",
    "f_q = f.change_ring(Integers(q)).inverse_mod(x^N - 1)\n",
    "print(f_q)\n",
    "\n",
    "# Encryption\n",
    "# e = 2 + 8x^2 - 16x^3 - 9x^4 - 18x^5 -3x^6\n",
    "R2.<x> = PolynomialRing(GF(q))\n",
    "R2_mod = QuotientRing(R2, R2.ideal(x^N - 1))\n",
    "e = R2_mod([2, 0, 8, -16, -9, -18, -3])\n",
    "\n",
    "print(f * e)\n",
    "print((f * e).lift().parent()) # 41\n",
    "a = (f * e).lift()\n",
    "print(a)\n",
    "\n",
    "a_centered = R_mod([coeff.lift_centered() for coeff in a])\n",
    "print(a_centered.parent())\n",
    "print(\"a_centered\", a_centered)\n",
    "\n",
    "m = f_p * a_centered\n",
    "m_centered = R_mod([coeff.lift_centered() for coeff in m])\n",
    "m_centered"
   ]
  },
  {
   "cell_type": "code",
   "execution_count": 8,
   "id": "0c08708b-147f-431a-b650-b8c28c1ec991",
   "metadata": {},
   "outputs": [],
   "source": [
    "# Exercise 7.58\n",
    "# Set NTRU parameters\n",
    "N = 11  # Degree of polynomials\n",
    "p = 3  # Small modulus\n",
    "q = 67  # Large modulus\n",
    "d = 3\n",
    "\n",
    "# Public key\n",
    "R.<x> = PolynomialRing(ZZ)\n",
    "h = 39 + 9*x + 33*x^2 + 52*x^3 + 58*x^4 + 11*x^5 + 38*x^6 + 6*x^7 + x^8 + 48*x^9 + 41*x^10\n",
    "\n",
    "# Use LLL to find the private key\n",
    "e = 52 + 50*x + 50*x^2 + 61*x^3 + 61*x^4 + 7*x^5 + 53*x^6 + 46*x^7 + 24*x^8 + 17*x^9 + 50*x^10"
   ]
  },
  {
   "cell_type": "code",
   "execution_count": 11,
   "id": "af14dd22-bd20-4e91-82f3-0c0a97716318",
   "metadata": {},
   "outputs": [],
   "source": [
    "# Solve NTRU with LLL\n",
    "h = 30 + 26*x + 8*x^2 + 38*x^3 + 2*x^4 + 40*x^5 + 20*x^6\n",
    "coefficients = h.coefficients(sparse=False)"
   ]
  },
  {
   "cell_type": "code",
   "execution_count": 12,
   "id": "d469b7bd-9a7a-4cfc-9491-00067fe8eed6",
   "metadata": {},
   "outputs": [],
   "source": [
    "def circulant_matrix(coeffs):\n",
    "    n = len(coeffs)\n",
    "    return Matrix(ZZ, n, n, lambda i, j: coeffs[(j - i) % n])\n",
    "\n",
    "C = circulant_matrix(coefficients)"
   ]
  },
  {
   "cell_type": "code",
   "execution_count": 19,
   "id": "b5ab494e-caae-453e-b3f7-7dd647f0a4c1",
   "metadata": {},
   "outputs": [],
   "source": [
    "n = C.nrows()\n",
    "I = identity_matrix(ZZ, n)\n",
    "O = zero_matrix(ZZ, n, n)\n",
    "q = 41\n",
    "qI = q * I"
   ]
  },
  {
   "cell_type": "code",
   "execution_count": 20,
   "id": "57cf1ac2-2d59-436c-b30c-79fc8a59ebd5",
   "metadata": {},
   "outputs": [],
   "source": [
    "M = block_matrix([[I, C], [O, qI]])"
   ]
  },
  {
   "cell_type": "code",
   "execution_count": 21,
   "id": "f40ce377-a868-42e5-8bff-e81a69aed980",
   "metadata": {},
   "outputs": [
    {
     "data": {
      "text/plain": [
       "[ 1  0  0  0  0  0  0|30 26  8  1  2  3 20]\n",
       "[ 0  1  0  0  0  0  0|20 30 26  8  1  2  3]\n",
       "[ 0  0  1  0  0  0  0| 3 20 30 26  8  1  2]\n",
       "[ 0  0  0  1  0  0  0| 2  3 20 30 26  8  1]\n",
       "[ 0  0  0  0  1  0  0| 1  2  3 20 30 26  8]\n",
       "[ 0  0  0  0  0  1  0| 8  1  2  3 20 30 26]\n",
       "[ 0  0  0  0  0  0  1|26  8  1  2  3 20 30]\n",
       "[--------------------+--------------------]\n",
       "[ 0  0  0  0  0  0  0|41  0  0  0  0  0  0]\n",
       "[ 0  0  0  0  0  0  0| 0 41  0  0  0  0  0]\n",
       "[ 0  0  0  0  0  0  0| 0  0 41  0  0  0  0]\n",
       "[ 0  0  0  0  0  0  0| 0  0  0 41  0  0  0]\n",
       "[ 0  0  0  0  0  0  0| 0  0  0  0 41  0  0]\n",
       "[ 0  0  0  0  0  0  0| 0  0  0  0  0 41  0]\n",
       "[ 0  0  0  0  0  0  0| 0  0  0  0  0  0 41]"
      ]
     },
     "execution_count": 21,
     "metadata": {},
     "output_type": "execute_result"
    }
   ],
   "source": [
    "M"
   ]
  },
  {
   "cell_type": "code",
   "execution_count": 32,
   "id": "832a55d6-d67a-48bf-bbbe-b61cd1c492e1",
   "metadata": {},
   "outputs": [],
   "source": [
    "from fpylll import LLL\n",
    "M_LLL = M.LLL(delta=0.99)"
   ]
  },
  {
   "cell_type": "code",
   "execution_count": 33,
   "id": "e0fe497a-fb69-486d-8c50-708c94197fc3",
   "metadata": {},
   "outputs": [
    {
     "data": {
      "text/plain": [
       "[-2  2  2  1  1  3 -2  2 -1  0 -2  1  2 -3]\n",
       "[ 2  2  1  1  3 -2 -2 -1  0 -2  1  2 -3  2]\n",
       "[-2 -1 -1 -3  2  2 -2  0  2 -1 -2  3 -2  1]\n",
       "[-2 -2  2  2  1  1  3 -3  2 -1  0 -2  1  2]\n",
       "[ 2 -3 -1 -1 -2 -4  3 -2 -4  0 -1  0  2 -2]\n",
       "[ 3 -2 -2  2  2  1  1  2 -3  2 -1  0 -2  1]\n",
       "[-2  1  0 -4 -2 -4  0  0 -1 -2 -2 -1 -3  3]\n",
       "[ 1  3 -2 -2  2  2  1  1  2 -3  2 -1  0 -2]\n",
       "[ 0 -2  1  0 -4 -2 -4  3  0 -1 -2 -2 -1 -3]\n",
       "[ 1  1  3 -2 -2  2  2 -2  1  2 -3  2 -1  0]\n",
       "[ 3  1  1  2  4 -3 -2  4  0  1  0 -2  2  2]\n",
       "[-4  0 -2  1  0 -4 -2 -3  3  0 -1 -2 -2 -1]\n",
       "[-2 -4  0 -2  1  0 -4 -1 -3  3  0 -1 -2 -2]\n",
       "[ 3  2 -3 -1 -1 -2 -4 -2 -2 -4  0 -1  0  2]"
      ]
     },
     "execution_count": 33,
     "metadata": {},
     "output_type": "execute_result"
    }
   ],
   "source": [
    "M_LLL"
   ]
  },
  {
   "cell_type": "code",
   "execution_count": 38,
   "id": "ba240d6c-e57f-4aad-889d-c9b564b9a57c",
   "metadata": {},
   "outputs": [
    {
     "data": {
      "text/plain": [
       "[-1 -1  1  0 -1  1  0  1  4 -5  0 -5  0 -3]\n",
       "[ 0 -1 -1  1  0 -1  1 -3  1  4 -5  0 -5  0]\n",
       "[ 0 -3 -1  1  1 -3  3 -6 -2 -6 -3 -6 -3 10]\n",
       "[-2 -1  3  0 -4  5 -2 -5  0  3 -1 -7  1  1]\n",
       "[ 1  0 -1 -1  1  0 -1  0 -3  1  4 -5  0 -5]\n",
       "[-1  4 -5  3 -2  1  0  6  0  2 -5  0  2 -5]\n",
       "[-3  4 -3  3 -2  0  2 -4  3  5  5 -2  8 -7]\n",
       "[ 0 -2 -2  2 -4  5 -3 -2  2  5  3  5 -4  0]\n",
       "[ 0  4 -2 -2  2 -2  1  0  2  7 -3  0  2  0]\n",
       "[-1 -2 -2  0 -3  1  1 -4  0 -3 -1 -5  4  2]\n",
       "[-2  2  2  1  1  3 -2  2 -1  0 -2  1  2 -3]\n",
       "[-3  1  2 -1  1 -1  1 -6 -2  3  5 -2  3 -1]\n",
       "[-2 -2  2  2  1  1  3 -3  2 -1  0 -2  1  2]\n",
       "[ 1  1  3 -2 -2  2  2 -2  1  2 -3  2 -1  0]"
      ]
     },
     "execution_count": 38,
     "metadata": {},
     "output_type": "execute_result"
    }
   ],
   "source": [
    "M_LLL = M.LLL(delta=0.5)\n",
    "M_LLL"
   ]
  },
  {
   "cell_type": "code",
   "execution_count": null,
   "id": "d4d3870e-3003-4e79-933e-b1e3b0fb34db",
   "metadata": {},
   "outputs": [],
   "source": [
    "M_LLL[0]"
   ]
  }
 ],
 "metadata": {
  "kernelspec": {
   "display_name": "SageMath 10.3",
   "language": "sage",
   "name": "sagemath-10.3"
  },
  "language_info": {
   "codemirror_mode": {
    "name": "ipython",
    "version": 3
   },
   "file_extension": ".py",
   "mimetype": "text/x-python",
   "name": "python",
   "nbconvert_exporter": "python",
   "pygments_lexer": "ipython3",
   "version": "3.11.8"
  }
 },
 "nbformat": 4,
 "nbformat_minor": 5
}
