{
 "cells": [
  {
   "cell_type": "code",
   "execution_count": 1,
   "id": "48a10971-1e93-47d4-93c8-a5387768bbb7",
   "metadata": {},
   "outputs": [
    {
     "name": "stdout",
     "output_type": "stream",
     "text": [
      "[  -3 -4 ]\n",
      "[ -14  9 ]\n"
     ]
    }
   ],
   "source": [
    "from fpylll import IntegerMatrix, LLL\n",
    "\n",
    "# Define the basis matrix\n",
    "B = IntegerMatrix.from_matrix([[161, 104], [120, 77]])\n",
    "\n",
    "# Perform LLL reduction\n",
    "LLL.reduction(B)\n",
    "\n",
    "# Output the reduced basis\n",
    "print(B)"
   ]
  },
  {
   "cell_type": "code",
   "execution_count": 15,
   "id": "e6a551a4-6a42-4f3e-aafc-e745e69f4719",
   "metadata": {},
   "outputs": [
    {
     "name": "stdout",
     "output_type": "stream",
     "text": [
      "[  0 1 0 ]\n",
      "[  1 0 1 ]\n",
      "[ -1 0 2 ]\n"
     ]
    }
   ],
   "source": [
    "# Define the basis matrix\n",
    "B = IntegerMatrix.from_matrix([[1, 1, 1], [-1, 0, 2], [3, 5, 6]])\n",
    "\n",
    "# Perform LLL reduction\n",
    "LLL.reduction(B)\n",
    "\n",
    "# Output the reduced basis\n",
    "print(B)"
   ]
  },
  {
   "cell_type": "code",
   "execution_count": 2,
   "id": "e7e324df-9184-4641-b917-c7e0fe812309",
   "metadata": {},
   "outputs": [
    {
     "data": {
      "text/plain": [
       "(-17, -14)"
      ]
     },
     "execution_count": 2,
     "metadata": {},
     "output_type": "execute_result"
    }
   ],
   "source": [
    "# Define the matrix A\n",
    "A = Matrix([[-7, -3], [2, -11]])\n",
    "\n",
    "# Define the vector b\n",
    "b = vector([161, 120])\n",
    "\n",
    "# Solve the system Ax = b\n",
    "solution = A.solve_right(b)\n",
    "\n",
    "# Print the solution\n",
    "solution"
   ]
  },
  {
   "cell_type": "code",
   "execution_count": 4,
   "id": "057b2286-0042-42c1-a7fe-9e4db806dbb0",
   "metadata": {},
   "outputs": [
    {
     "name": "stdout",
     "output_type": "stream",
     "text": [
      "[ -5  2 16 ]\n",
      "[  5 16 -7 ]\n",
      "[ 15  0 10 ]\n"
     ]
    }
   ],
   "source": [
    "C = IntegerMatrix.from_matrix([[20, 16, 3], [15, 0, 10], [0, 18, 9]])\n",
    "LLL.reduction(C)\n",
    "print(C)"
   ]
  },
  {
   "cell_type": "code",
   "execution_count": 83,
   "id": "6759d4fd-5b94-495d-914a-ec358f2d9f41",
   "metadata": {},
   "outputs": [
    {
     "data": {
      "text/plain": [
       "[(15, 0, 10), (62/13, 16, -93/13), (-31680/4289, 30690/4289, 47520/4289)]"
      ]
     },
     "execution_count": 83,
     "metadata": {},
     "output_type": "execute_result"
    }
   ],
   "source": [
    "from sage.modules.misc import gram_schmidt\n",
    "\n",
    "# Define the vectors\n",
    "v1 = vector([15, 0, 10])\n",
    "v2 = vector([20, 16, 3])\n",
    "v3 = vector([0, 18, 9])\n",
    "B=[v1,v2,v3]\n",
    "# Apply Gram-Schmidt process\n",
    "G, mu = gram_schmidt(B)\n",
    "G"
   ]
  },
  {
   "cell_type": "code",
   "execution_count": 84,
   "id": "2e1713f8-5430-4643-83ce-1158a9094cca",
   "metadata": {},
   "outputs": [
    {
     "data": {
      "text/plain": [
       "[        0         0         0]\n",
       "[    66/65         0         0]\n",
       "[    18/65 2907/4289         0]"
      ]
     },
     "execution_count": 84,
     "metadata": {},
     "output_type": "execute_result"
    }
   ],
   "source": [
    "mu"
   ]
  },
  {
   "cell_type": "code",
   "execution_count": 85,
   "id": "71a09e10-4d55-443f-a429-93bd5cd96477",
   "metadata": {},
   "outputs": [
    {
     "data": {
      "text/plain": [
       "[(15, 0, 10), (62/13, 16, -93/13), (-31680/4289, 30690/4289, 47520/4289)]"
      ]
     },
     "execution_count": 85,
     "metadata": {},
     "output_type": "execute_result"
    }
   ],
   "source": [
    "# Define the vectors\n",
    "v1 = vector([15, 0, 10])\n",
    "v2 = vector([5, 16, -7])\n",
    "v3 = vector([0, 18, 9])\n",
    "B=[v1,v2,v3]\n",
    "# Apply Gram-Schmidt process\n",
    "G, mu = gram_schmidt(B)\n",
    "G"
   ]
  },
  {
   "cell_type": "code",
   "execution_count": 87,
   "id": "710f900f-d4e4-4a3b-b0ec-8ce0a57fd318",
   "metadata": {},
   "outputs": [
    {
     "data": {
      "text/plain": [
       "[        0         0         0]\n",
       "[     1/65         0         0]\n",
       "[    18/65 2907/4289         0]"
      ]
     },
     "execution_count": 87,
     "metadata": {},
     "output_type": "execute_result"
    }
   ],
   "source": [
    "mu"
   ]
  },
  {
   "cell_type": "code",
   "execution_count": 88,
   "id": "28b14a52-7466-412c-a671-862cf3a4dba9",
   "metadata": {},
   "outputs": [
    {
     "data": {
      "text/plain": [
       "345/4"
      ]
     },
     "execution_count": 88,
     "metadata": {},
     "output_type": "execute_result"
    }
   ],
   "source": [
    "G[1].norm()^2 - (3/4 - mu[1][0]^2) * G[0].norm()^2"
   ]
  },
  {
   "cell_type": "code",
   "execution_count": 90,
   "id": "47a824ab-28ac-4425-93c1-a7c20758bea4",
   "metadata": {},
   "outputs": [
    {
     "data": {
      "text/plain": [
       "False"
      ]
     },
     "execution_count": 90,
     "metadata": {},
     "output_type": "execute_result"
    }
   ],
   "source": [
    "mu[2][1] <= 1/2"
   ]
  },
  {
   "cell_type": "code",
   "execution_count": 92,
   "id": "05d54c93-a572-4d6c-9bf4-9189ec9cf0c4",
   "metadata": {},
   "outputs": [
    {
     "data": {
      "text/plain": [
       "[(15, 0, 10), (62/13, 16, -93/13), (-31680/4289, 30690/4289, 47520/4289)]"
      ]
     },
     "execution_count": 92,
     "metadata": {},
     "output_type": "execute_result"
    }
   ],
   "source": [
    "# Define the vectors\n",
    "v1 = vector([15, 0, 10])\n",
    "v2 = vector([5, 16, -7])\n",
    "v3 = vector([-5, 2, 16])\n",
    "B=[v1,v2,v3]\n",
    "# Apply Gram-Schmidt process\n",
    "G, mu = gram_schmidt(B)\n",
    "G"
   ]
  },
  {
   "cell_type": "code",
   "execution_count": 93,
   "id": "000316f1-962c-4d7e-8cd3-d1739e9843a6",
   "metadata": {},
   "outputs": [
    {
     "data": {
      "text/plain": [
       "[         0          0          0]\n",
       "[      1/65          0          0]\n",
       "[     17/65 -1382/4289          0]"
      ]
     },
     "execution_count": 93,
     "metadata": {},
     "output_type": "execute_result"
    }
   ],
   "source": [
    "mu"
   ]
  },
  {
   "cell_type": "code",
   "execution_count": 98,
   "id": "0ff07a3b-cd51-486f-b536-b5e99d0dec22",
   "metadata": {},
   "outputs": [
    {
     "data": {
      "text/plain": [
       "797/52"
      ]
     },
     "execution_count": 98,
     "metadata": {},
     "output_type": "execute_result"
    }
   ],
   "source": [
    "(v3-mu[2][0]*v1).norm()^2 - 3/4 * G[1].norm()^2"
   ]
  },
  {
   "cell_type": "code",
   "execution_count": 94,
   "id": "f354db99-8c07-412e-bba5-a30b0bd3da33",
   "metadata": {},
   "outputs": [
    {
     "data": {
      "text/plain": [
       "797/52"
      ]
     },
     "execution_count": 94,
     "metadata": {},
     "output_type": "execute_result"
    }
   ],
   "source": [
    "G[2].norm()^2 - (3/4 - mu[2][1]^2) * G[1].norm()^2"
   ]
  },
  {
   "cell_type": "code",
   "execution_count": 95,
   "id": "6f1263fb-3f40-4b2f-b2ae-0b159181d5f9",
   "metadata": {},
   "outputs": [
    {
     "data": {
      "text/plain": [
       "-1382/4289"
      ]
     },
     "execution_count": 95,
     "metadata": {},
     "output_type": "execute_result"
    }
   ],
   "source": [
    "mu[2][1]"
   ]
  },
  {
   "cell_type": "code",
   "execution_count": 82,
   "id": "b63caefd-48a2-4ddc-8087-cdcbc5bed1b6",
   "metadata": {},
   "outputs": [
    {
     "data": {
      "text/plain": [
       "325"
      ]
     },
     "execution_count": 82,
     "metadata": {},
     "output_type": "execute_result"
    }
   ],
   "source": [
    "G[0].norm()^2"
   ]
  },
  {
   "cell_type": "code",
   "execution_count": 74,
   "id": "012fe00f-3051-4a02-a2da-1aa9c74cbbb2",
   "metadata": {},
   "outputs": [
    {
     "data": {
      "text/plain": [
       "980100/4289"
      ]
     },
     "execution_count": 74,
     "metadata": {},
     "output_type": "execute_result"
    }
   ],
   "source": [
    "G[2].norm()^2 # 228.5"
   ]
  },
  {
   "cell_type": "code",
   "execution_count": 78,
   "id": "8ab72937-482a-4c8a-af16-dd9d0ce50f97",
   "metadata": {},
   "outputs": [
    {
     "data": {
      "text/plain": [
       "47546867/223028"
      ]
     },
     "execution_count": 78,
     "metadata": {},
     "output_type": "execute_result"
    }
   ],
   "source": [
    "(3/4 - mu[2][1]^2) * G[1].norm()^2 # 213.19"
   ]
  },
  {
   "cell_type": "code",
   "execution_count": null,
   "id": "b233c51f-c77e-459d-893c-f7abfafd5cac",
   "metadata": {},
   "outputs": [],
   "source": [
    "# Define the vectors\n",
    "v1 = vector([15, 0, 10])\n",
    "v2 = vector([0, 18, 9])\n",
    "v3 = vector([5, 16, -7])\n",
    "B=[v1,v2,v3]\n",
    "# Apply Gram-Schmidt process\n",
    "G, mu = gram_schmidt(B)\n",
    "G"
   ]
  },
  {
   "cell_type": "code",
   "execution_count": null,
   "id": "0dade790-f310-42ed-8e67-ab07d0f4e420",
   "metadata": {},
   "outputs": [],
   "source": [
    "# Define the vectors\n",
    "v1 = vector([15, 0, 10])\n",
    "v2 = vector([0, 18, 9])\n",
    "v3 = vector([5, 16, -7])\n",
    "B=[v1,v2,v3]\n",
    "# Apply Gram-Schmidt process\n",
    "G, mu = gram_schmidt(B)\n",
    "G"
   ]
  },
  {
   "cell_type": "code",
   "execution_count": 55,
   "id": "a98b2406-412e-4eec-bfd6-9a8199a51f4a",
   "metadata": {},
   "outputs": [
    {
     "data": {
      "text/plain": [
       "[(15, 0, 10), (62/13, 16, -93/13), (-31680/4289, 30690/4289, 47520/4289)]"
      ]
     },
     "execution_count": 55,
     "metadata": {},
     "output_type": "execute_result"
    }
   ],
   "source": [
    "v1 = vector([15, 0, 10])\n",
    "v2 = vector([5, 16, -7])\n",
    "v3 = vector([-5,2,16])\n",
    "B=[v1,v2,v3]\n",
    "# Apply Gram-Schmidt process\n",
    "G, mu = gram_schmidt(B)\n",
    "G"
   ]
  },
  {
   "cell_type": "code",
   "execution_count": 56,
   "id": "755c6011-4fe8-4b47-ab9b-5bc1e696a67d",
   "metadata": {},
   "outputs": [
    {
     "data": {
      "text/plain": [
       "[         0          0          0]\n",
       "[      1/65          0          0]\n",
       "[     17/65 -1382/4289          0]"
      ]
     },
     "execution_count": 56,
     "metadata": {},
     "output_type": "execute_result"
    }
   ],
   "source": [
    "mu"
   ]
  },
  {
   "cell_type": "code",
   "execution_count": 60,
   "id": "6eda6514-fc3f-4b53-8708-563f9cba18f6",
   "metadata": {},
   "outputs": [
    {
     "data": {
      "text/plain": [
       "1382/4289"
      ]
     },
     "execution_count": 60,
     "metadata": {},
     "output_type": "execute_result"
    }
   ],
   "source": [
    "mu_3_2 = abs((v3 * G[1]) / (G[1].norm() ^ 2))\n",
    "mu_3_2"
   ]
  },
  {
   "cell_type": "code",
   "execution_count": 57,
   "id": "b79ae0b2-bc47-4844-8f58-8fa637ae8505",
   "metadata": {},
   "outputs": [
    {
     "data": {
      "text/plain": [
       "17/65"
      ]
     },
     "execution_count": 57,
     "metadata": {},
     "output_type": "execute_result"
    }
   ],
   "source": [
    "mu_3_1 = abs((v3 * G[0]) / (G[0].norm() ^ 2))\n",
    "mu_3_1"
   ]
  },
  {
   "cell_type": "code",
   "execution_count": 61,
   "id": "0c9bf4e9-2053-4ff5-93fc-ad145ccda2d0",
   "metadata": {},
   "outputs": [
    {
     "data": {
      "text/plain": [
       "797/52"
      ]
     },
     "execution_count": 61,
     "metadata": {},
     "output_type": "execute_result"
    }
   ],
   "source": [
    "G[2].norm()^2 - (3/4 - mu_3_2^2) * G[1].norm()^2"
   ]
  },
  {
   "cell_type": "code",
   "execution_count": 62,
   "id": "5b825d48-5103-4fd1-b855-58c69774d781",
   "metadata": {},
   "outputs": [
    {
     "data": {
      "text/plain": [
       "1909924/18395521"
      ]
     },
     "execution_count": 62,
     "metadata": {},
     "output_type": "execute_result"
    }
   ],
   "source": [
    "mu_3_2^2"
   ]
  },
  {
   "cell_type": "code",
   "execution_count": 102,
   "id": "56b7574a-78fa-4cf6-86f3-0139fcbb5d6c",
   "metadata": {},
   "outputs": [
    {
     "name": "stdout",
     "output_type": "stream",
     "text": [
      "[-5  2 16]\n",
      "[ 5 16 -7]\n",
      "[15  0 10]\n",
      "[15  0 10]\n",
      "[ 5 16 -7]\n",
      "[-5  2 16]\n"
     ]
    }
   ],
   "source": [
    "from fpylll import LLL\n",
    "\n",
    "B = Matrix([\n",
    "    [20, 16, 3],\n",
    "    [15, 0, 10],\n",
    "    [0, 18, 9]\n",
    "])\n",
    "\n",
    "# default delta is 0.99\n",
    "# https://doc.sagemath.org/html/en/reference/matrices/sage/matrix/matrix_integer_dense.html\n",
    "# [-5  2 16]\n",
    "# [ 5 16 -7]\n",
    "# [15  0 10]\n",
    "B_LLL = B.LLL()\n",
    "\n",
    "print(B_LLL)\n",
    "\n",
    "# Perform LLL reduction\n",
    "B_LLL = B.LLL(delta=0.75)\n",
    "\n",
    "# Output the reduced basis\n",
    "# [15  0 10]\n",
    "# [ 5 16 -7]\n",
    "# [-5  2 16]\n",
    "print(B_LLL)"
   ]
  }
 ],
 "metadata": {
  "kernelspec": {
   "display_name": "SageMath 10.3",
   "language": "sage",
   "name": "sagemath-10.3"
  },
  "language_info": {
   "codemirror_mode": {
    "name": "ipython",
    "version": 3
   },
   "file_extension": ".py",
   "mimetype": "text/x-python",
   "name": "python",
   "nbconvert_exporter": "python",
   "pygments_lexer": "ipython3",
   "version": "3.11.8"
  }
 },
 "nbformat": 4,
 "nbformat_minor": 5
}
