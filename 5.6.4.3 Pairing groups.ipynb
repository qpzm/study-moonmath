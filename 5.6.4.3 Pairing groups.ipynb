{
 "cells": [
  {
   "cell_type": "code",
   "execution_count": 2,
   "id": "7e289615",
   "metadata": {},
   "outputs": [
    {
     "data": {
      "text/plain": [
       "True"
      ]
     },
     "execution_count": 2,
     "metadata": {},
     "output_type": "execute_result"
    }
   ],
   "source": [
    "F43 = GF(43)\n",
    "F43t.<t> = F43[]\n",
    "p = F43t(t^6 + 6)\n",
    "p.is_irreducible()"
   ]
  },
  {
   "cell_type": "code",
   "execution_count": 3,
   "id": "5dbaecfb",
   "metadata": {},
   "outputs": [
    {
     "data": {
      "text/plain": [
       "6321363049"
      ]
     },
     "execution_count": 3,
     "metadata": {},
     "output_type": "execute_result"
    }
   ],
   "source": [
    "F43_6.<v> = GF(43^6, name='v', modulus=p)\n",
    "F43_6.order()"
   ]
  },
  {
   "cell_type": "code",
   "execution_count": 5,
   "id": "7df558ec",
   "metadata": {},
   "outputs": [],
   "source": [
    "ExtBLS6 = EllipticCurve(F43_6,[0 ,6])\n",
    "INF = ExtBLS6(0)\n",
    "for P in INF.division_points(13): # full 13-torsion\n",
    "    if P.order() == 13:\n",
    "        piP = ExtBLS6([a.frobenius() for a in P])\n",
    "        qP = 43 *P\n",
    "        if piP == qP:\n",
    "            break"
   ]
  },
  {
   "cell_type": "code",
   "execution_count": 6,
   "id": "c809e926",
   "metadata": {},
   "outputs": [
    {
     "data": {
      "text/plain": [
       "(7*v^2, 16*v^3)"
      ]
     },
     "execution_count": 6,
     "metadata": {},
     "output_type": "execute_result"
    }
   ],
   "source": [
    "P.xy()"
   ]
  },
  {
   "cell_type": "code",
   "execution_count": 9,
   "id": "57406bcf",
   "metadata": {},
   "outputs": [],
   "source": [
    "g2 = ExtBLS6(7*v^2, 16*v^3)\n",
    "G2_13 = [x*g2 for x in range(0, 13)]"
   ]
  },
  {
   "cell_type": "code",
   "execution_count": 10,
   "id": "5ebeaa40",
   "metadata": {},
   "outputs": [
    {
     "data": {
      "text/plain": [
       "[(0 : 1 : 0),\n",
       " (7*v^2 : 16*v^3 : 1),\n",
       " (10*v^2 : 28*v^3 : 1),\n",
       " (42*v^2 : 16*v^3 : 1),\n",
       " (37*v^2 : 27*v^3 : 1),\n",
       " (16*v^2 : 28*v^3 : 1),\n",
       " (17*v^2 : 28*v^3 : 1),\n",
       " (17*v^2 : 15*v^3 : 1),\n",
       " (16*v^2 : 15*v^3 : 1),\n",
       " (37*v^2 : 16*v^3 : 1),\n",
       " (42*v^2 : 27*v^3 : 1),\n",
       " (10*v^2 : 15*v^3 : 1),\n",
       " (7*v^2 : 27*v^3 : 1)]"
      ]
     },
     "execution_count": 10,
     "metadata": {},
     "output_type": "execute_result"
    }
   ],
   "source": [
    "G2_13"
   ]
  },
  {
   "cell_type": "code",
   "execution_count": 21,
   "id": "0554710e",
   "metadata": {},
   "outputs": [
    {
     "data": {
      "text/plain": [
       "14*v"
      ]
     },
     "execution_count": 21,
     "metadata": {},
     "output_type": "execute_result"
    }
   ],
   "source": [
    "x1, y1 = g2.xy()\n",
    "m = 3* x1^2 / (2 * y1)\n",
    "m"
   ]
  },
  {
   "cell_type": "code",
   "execution_count": 22,
   "id": "ec917aa5",
   "metadata": {},
   "outputs": [
    {
     "data": {
      "text/plain": [
       "39"
      ]
     },
     "execution_count": 22,
     "metadata": {},
     "output_type": "execute_result"
    }
   ],
   "source": [
    "K = GF(43)\n",
    "a = K(32)\n",
    "1/a"
   ]
  },
  {
   "cell_type": "code",
   "execution_count": 23,
   "id": "61505ef3",
   "metadata": {},
   "outputs": [
    {
     "data": {
      "text/plain": [
       "10*v^2"
      ]
     },
     "execution_count": 23,
     "metadata": {},
     "output_type": "execute_result"
    }
   ],
   "source": [
    "x2 = m^2 - 2*x1\n",
    "x2"
   ]
  },
  {
   "cell_type": "code",
   "execution_count": 25,
   "id": "f31b33d8",
   "metadata": {},
   "outputs": [
    {
     "data": {
      "text/plain": [
       "28*v^3"
      ]
     },
     "execution_count": 25,
     "metadata": {},
     "output_type": "execute_result"
    }
   ],
   "source": [
    "y2 = -m*(x2-x1) - y1\n",
    "y2"
   ]
  },
  {
   "cell_type": "code",
   "execution_count": null,
   "id": "bb35d9af",
   "metadata": {},
   "outputs": [],
   "source": []
  }
 ],
 "metadata": {
  "kernelspec": {
   "display_name": "SageMath 9.8",
   "language": "sage",
   "name": "sagemath-9.8"
  },
  "language_info": {
   "codemirror_mode": {
    "name": "ipython",
    "version": 3
   },
   "file_extension": ".py",
   "mimetype": "text/x-python",
   "name": "python",
   "nbconvert_exporter": "python",
   "pygments_lexer": "ipython3",
   "version": "3.11.1"
  }
 },
 "nbformat": 4,
 "nbformat_minor": 5
}
