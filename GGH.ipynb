{
 "cells": [
  {
   "cell_type": "code",
   "execution_count": 42,
   "id": "7fc3d9cb-9091-43ff-b101-94b1fdee8a55",
   "metadata": {},
   "outputs": [
    {
     "name": "stdout",
     "output_type": "stream",
     "text": [
      "[  4 -57]\n",
      "[ 13 -45]\n",
      "[ 25453 -16096]\n",
      "[  9091  -5749]\n",
      "-1\n"
     ]
    }
   ],
   "source": [
    "from sage.all import *\n",
    "\n",
    "# private key basis\n",
    "V = Matrix([[4, -57], [13, -45]])\n",
    "print(V)\n",
    "\n",
    "# public key basis\n",
    "W = Matrix([[25453,-16096],[9091, -5749]])\n",
    "print(W)\n",
    "print(det(V * W^-1))\n",
    "\n",
    "# encrypted message\n",
    "# e = Wm + r\n",
    "e = vector([155340, 55483])"
   ]
  },
  {
   "cell_type": "code",
   "execution_count": 38,
   "id": "df9d2264-b804-4775-bea7-5d230f4930d5",
   "metadata": {},
   "outputs": [
    {
     "data": {
      "text/plain": [
       "(-6823, -3204)"
      ]
     },
     "execution_count": 38,
     "metadata": {},
     "output_type": "execute_result"
    }
   ],
   "source": [
    "# CVP: Vx = e\n",
    "x = (V^-1 * e)\n",
    "x1 = vector([round(x[0]), round(x[1])])\n",
    "x1"
   ]
  },
  {
   "cell_type": "code",
   "execution_count": 46,
   "id": "66e6b947-3ac2-4178-95b0-6da02f49c488",
   "metadata": {},
   "outputs": [
    {
     "data": {
      "text/plain": [
       "(8, 3)"
      ]
     },
     "execution_count": 46,
     "metadata": {},
     "output_type": "execute_result"
    }
   ],
   "source": [
    "# message\n",
    "m = W^-1 * V * x1\n",
    "m"
   ]
  },
  {
   "cell_type": "code",
   "execution_count": 48,
   "id": "4504d01a-a881-4763-898a-940884ab3b8e",
   "metadata": {},
   "outputs": [
    {
     "data": {
      "text/plain": [
       "(4, 2)"
      ]
     },
     "execution_count": 48,
     "metadata": {},
     "output_type": "execute_result"
    }
   ],
   "source": [
    "# random r\n",
    "r = e - W * m\n",
    "r"
   ]
  }
 ],
 "metadata": {
  "kernelspec": {
   "display_name": "SageMath 10.3",
   "language": "sage",
   "name": "sagemath-10.3"
  },
  "language_info": {
   "codemirror_mode": {
    "name": "ipython",
    "version": 3
   },
   "file_extension": ".py",
   "mimetype": "text/x-python",
   "name": "python",
   "nbconvert_exporter": "python",
   "pygments_lexer": "ipython3",
   "version": "3.11.8"
  }
 },
 "nbformat": 4,
 "nbformat_minor": 5
}
