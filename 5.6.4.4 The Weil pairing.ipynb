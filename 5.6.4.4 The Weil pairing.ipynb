{
 "cells": [
  {
   "cell_type": "code",
   "execution_count": 1,
   "id": "e2198d3d",
   "metadata": {},
   "outputs": [],
   "source": [
    "F43 = GF(43)\n",
    "F43t.<t> = F43[]\n",
    "p = F43t(t^6+6)\n",
    "F43_6.<v> = GF(43^6, name='v', modulus=p)\n",
    "ExtBLS6 = EllipticCurve(F43_6, [0, 6])"
   ]
  },
  {
   "cell_type": "code",
   "execution_count": 2,
   "id": "b93e65f1",
   "metadata": {},
   "outputs": [
    {
     "data": {
      "text/plain": [
       "5*v^5 + 16*v^4 + 16*v^3 + 15*v^2 + 3*v + 41"
      ]
     },
     "execution_count": 2,
     "metadata": {},
     "output_type": "execute_result"
    }
   ],
   "source": [
    "g1 = ExtBLS6([13,15])\n",
    "g2 = ExtBLS6([7*v^2, 16*v^3])\n",
    "g1.weil_pairing(g2, 13)"
   ]
  },
  {
   "cell_type": "code",
   "execution_count": null,
   "id": "75224d03",
   "metadata": {},
   "outputs": [],
   "source": []
  }
 ],
 "metadata": {
  "kernelspec": {
   "display_name": "SageMath 10.3",
   "language": "sage",
   "name": "sagemath-10.3"
  },
  "language_info": {
   "codemirror_mode": {
    "name": "ipython",
    "version": 3
   },
   "file_extension": ".py",
   "mimetype": "text/x-python",
   "name": "python",
   "nbconvert_exporter": "python",
   "pygments_lexer": "ipython3",
   "version": "3.11.8"
  }
 },
 "nbformat": 4,
 "nbformat_minor": 5
}
